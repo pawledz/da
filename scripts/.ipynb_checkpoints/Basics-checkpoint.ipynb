{
 "cells": [
  {
   "cell_type": "markdown",
   "id": "d58541a2",
   "metadata": {},
   "source": [
    "# Basics\n",
    "\n",
    "## print\n"
   ]
  },
  {
   "cell_type": "markdown",
   "id": "df15e2c6",
   "metadata": {},
   "source": [
    "hello"
   ]
  },
  {
   "cell_type": "code",
   "execution_count": 3,
   "id": "7e0a4bb1",
   "metadata": {},
   "outputs": [
    {
     "name": "stdout",
     "output_type": "stream",
     "text": [
      "Hello world\n"
     ]
    }
   ],
   "source": [
    "print(\"Hello world\")"
   ]
  },
  {
   "cell_type": "code",
   "execution_count": 4,
   "id": "3464ef09",
   "metadata": {},
   "outputs": [
    {
     "data": {
      "text/plain": [
       "float"
      ]
     },
     "execution_count": 4,
     "metadata": {},
     "output_type": "execute_result"
    }
   ],
   "source": [
    "type(1.2)"
   ]
  },
  {
   "cell_type": "code",
   "execution_count": 5,
   "id": "07dc33ef",
   "metadata": {},
   "outputs": [
    {
     "name": "stdout",
     "output_type": "stream",
     "text": [
      "HELLO WORLD\n"
     ]
    }
   ],
   "source": [
    "print(\"Hello World\".upper())\n",
    "print(\"Hello World\".lower())\n",
    "print(\"Hello World\".title())"
   ]
  },
  {
   "cell_type": "code",
   "execution_count": 9,
   "id": "7f9a51f9",
   "metadata": {},
   "outputs": [
    {
     "name": "stdout",
     "output_type": "stream",
     "text": [
      "3\n",
      "Hellu Wurld\n",
      "uello, hello\n"
     ]
    }
   ],
   "source": [
    "print(\"Hello World\".count('l'))\n",
    "print(\"Hello World\".replace('o', 'u'))\n",
    "print(\"Hello, hello\".replace('H', 'u'))"
   ]
  },
  {
   "cell_type": "code",
   "execution_count": 12,
   "id": "dc534243",
   "metadata": {},
   "outputs": [
    {
     "name": "stdout",
     "output_type": "stream",
     "text": [
      "H_ _ _e_ _ _l_ _ _l_ _ _o_ _ _ _ _ _W_ _ _o_ _ _r_ _ _l_ _ _d\n"
     ]
    }
   ],
   "source": [
    "print(\"_ _ _\".join('Hello World'))"
   ]
  },
  {
   "cell_type": "code",
   "execution_count": 14,
   "id": "acc45430",
   "metadata": {},
   "outputs": [],
   "source": [
    "a = 'text1'\n",
    "b = ' '\n",
    "c = 'text 2'"
   ]
  },
  {
   "cell_type": "code",
   "execution_count": 17,
   "id": "59ac3972",
   "metadata": {},
   "outputs": [],
   "source": [
    "message = a + b + c"
   ]
  },
  {
   "cell_type": "code",
   "execution_count": 18,
   "id": "3b3aca88",
   "metadata": {},
   "outputs": [
    {
     "data": {
      "text/plain": [
       "'text1 text 2'"
      ]
     },
     "execution_count": 18,
     "metadata": {},
     "output_type": "execute_result"
    }
   ],
   "source": [
    "message"
   ]
  },
  {
   "cell_type": "code",
   "execution_count": 22,
   "id": "afd70632",
   "metadata": {},
   "outputs": [
    {
     "name": "stdout",
     "output_type": "stream",
     "text": [
      "Hello World\n"
     ]
    },
    {
     "data": {
      "text/plain": [
       "'text1 text 2'"
      ]
     },
     "execution_count": 22,
     "metadata": {},
     "output_type": "execute_result"
    }
   ],
   "source": [
    "print(f'Hello World')\n",
    "f'{a} {c}'"
   ]
  },
  {
   "cell_type": "code",
   "execution_count": 29,
   "id": "38c6654c",
   "metadata": {},
   "outputs": [
    {
     "name": "stdout",
     "output_type": "stream",
     "text": [
      "ex\n",
      "['b', 'c']\n",
      "['b', 'c', 'd']\n"
     ]
    }
   ],
   "source": [
    "my_list = [\"a\", \"b\", \"c\", \"d\"]\n",
    "print(a[1:3])\n",
    "print(my_list[1:3])\n",
    "print(my_list[1:])"
   ]
  },
  {
   "cell_type": "code",
   "execution_count": 36,
   "id": "8bf28200",
   "metadata": {},
   "outputs": [
    {
     "name": "stdout",
     "output_type": "stream",
     "text": [
      "['a', 'b', 'c', 'd', 'a', 'b', 'c', 'd']\n",
      "['a', 'b', 'c', 'd', 'a', 'b', 'c', 'd', 'z']\n",
      "['a', 'b', 'x', 'c', 'd', 'a', 'b', 'c', 'd', 'z']\n"
     ]
    }
   ],
   "source": [
    "newlist = my_list + my_list\n",
    "print(newlist)\n",
    "newlist.append(\"z\")\n",
    "print(newlist)\n",
    "newlist.insert(2, \"x\")\n",
    "print(newlist)"
   ]
  },
  {
   "cell_type": "markdown",
   "id": "240a08c4",
   "metadata": {},
   "source": [
    "# os module"
   ]
  },
  {
   "cell_type": "code",
   "execution_count": 1,
   "id": "ddf56b1a",
   "metadata": {},
   "outputs": [],
   "source": [
    "import os"
   ]
  },
  {
   "cell_type": "code",
   "execution_count": 2,
   "id": "3fcf73a5",
   "metadata": {},
   "outputs": [
    {
     "data": {
      "text/plain": [
       "'C:\\\\Users\\\\pawle\\\\PycharmProjects\\\\da\\\\scripts'"
      ]
     },
     "execution_count": 2,
     "metadata": {},
     "output_type": "execute_result"
    }
   ],
   "source": [
    "os.getcwd()\n",
    "//curent path"
   ]
  },
  {
   "cell_type": "code",
   "execution_count": 3,
   "id": "5cdde4ba",
   "metadata": {},
   "outputs": [
    {
     "data": {
      "text/plain": [
       "['.ipynb_checkpoints', 'Untitled.ipynb']"
      ]
     },
     "execution_count": 3,
     "metadata": {},
     "output_type": "execute_result"
    }
   ],
   "source": [
    "os.listdir()"
   ]
  },
  {
   "cell_type": "code",
   "execution_count": 4,
   "id": "94e94bab",
   "metadata": {},
   "outputs": [],
   "source": [
    "os.makedirs(\"New Folder\")"
   ]
  },
  {
   "cell_type": "code",
   "execution_count": 5,
   "id": "48b59979",
   "metadata": {},
   "outputs": [
    {
     "data": {
      "text/plain": [
       "['.ipynb_checkpoints', 'New Folder', 'Untitled.ipynb']"
      ]
     },
     "execution_count": 5,
     "metadata": {},
     "output_type": "execute_result"
    }
   ],
   "source": [
    "os.listdir()"
   ]
  },
  {
   "cell_type": "markdown",
   "id": "cf935751",
   "metadata": {},
   "source": []
  }
 ],
 "metadata": {
  "kernelspec": {
   "display_name": "Python 3 (ipykernel)",
   "language": "python",
   "name": "python3"
  },
  "language_info": {
   "codemirror_mode": {
    "name": "ipython",
    "version": 3
   },
   "file_extension": ".py",
   "mimetype": "text/x-python",
   "name": "python",
   "nbconvert_exporter": "python",
   "pygments_lexer": "ipython3",
   "version": "3.11.5"
  }
 },
 "nbformat": 4,
 "nbformat_minor": 5
}
